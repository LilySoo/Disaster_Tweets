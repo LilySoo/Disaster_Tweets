{
 "cells": [
  {
   "cell_type": "code",
   "execution_count": 98,
   "id": "709cd0ab",
   "metadata": {},
   "outputs": [],
   "source": [
    "import numpy as np\n",
    "import pandas as pd\n",
    "import matplotlib.pyplot as plt\n",
    "import seaborn as sns\n",
    "import math\n",
    "import random\n",
    "import nltk\n",
    "from nltk import sent_tokenize, word_tokenize, PorterStemmer\n",
    "from nltk.corpus import stopwords\n",
    "import re"
   ]
  },
  {
   "cell_type": "code",
   "execution_count": 99,
   "id": "a86bf228",
   "metadata": {},
   "outputs": [],
   "source": [
    "df_train = pd.read_csv(\"train.csv\")\n",
    "df_test = pd.read_csv(\"test.csv\")"
   ]
  },
  {
   "cell_type": "markdown",
   "id": "48c26d09",
   "metadata": {},
   "source": [
    "## Data Inspection"
   ]
  },
  {
   "cell_type": "code",
   "execution_count": 100,
   "id": "4d05e84b",
   "metadata": {},
   "outputs": [
    {
     "data": {
      "text/html": [
       "<div>\n",
       "<style scoped>\n",
       "    .dataframe tbody tr th:only-of-type {\n",
       "        vertical-align: middle;\n",
       "    }\n",
       "\n",
       "    .dataframe tbody tr th {\n",
       "        vertical-align: top;\n",
       "    }\n",
       "\n",
       "    .dataframe thead th {\n",
       "        text-align: right;\n",
       "    }\n",
       "</style>\n",
       "<table border=\"1\" class=\"dataframe\">\n",
       "  <thead>\n",
       "    <tr style=\"text-align: right;\">\n",
       "      <th></th>\n",
       "      <th>id</th>\n",
       "      <th>keyword</th>\n",
       "      <th>location</th>\n",
       "      <th>text</th>\n",
       "      <th>target</th>\n",
       "    </tr>\n",
       "  </thead>\n",
       "  <tbody>\n",
       "    <tr>\n",
       "      <th>0</th>\n",
       "      <td>1</td>\n",
       "      <td>NaN</td>\n",
       "      <td>NaN</td>\n",
       "      <td>Our Deeds are the Reason of this #earthquake M...</td>\n",
       "      <td>1</td>\n",
       "    </tr>\n",
       "    <tr>\n",
       "      <th>1</th>\n",
       "      <td>4</td>\n",
       "      <td>NaN</td>\n",
       "      <td>NaN</td>\n",
       "      <td>Forest fire near La Ronge Sask. Canada</td>\n",
       "      <td>1</td>\n",
       "    </tr>\n",
       "    <tr>\n",
       "      <th>2</th>\n",
       "      <td>5</td>\n",
       "      <td>NaN</td>\n",
       "      <td>NaN</td>\n",
       "      <td>All residents asked to 'shelter in place' are ...</td>\n",
       "      <td>1</td>\n",
       "    </tr>\n",
       "    <tr>\n",
       "      <th>3</th>\n",
       "      <td>6</td>\n",
       "      <td>NaN</td>\n",
       "      <td>NaN</td>\n",
       "      <td>13,000 people receive #wildfires evacuation or...</td>\n",
       "      <td>1</td>\n",
       "    </tr>\n",
       "    <tr>\n",
       "      <th>4</th>\n",
       "      <td>7</td>\n",
       "      <td>NaN</td>\n",
       "      <td>NaN</td>\n",
       "      <td>Just got sent this photo from Ruby #Alaska as ...</td>\n",
       "      <td>1</td>\n",
       "    </tr>\n",
       "    <tr>\n",
       "      <th>...</th>\n",
       "      <td>...</td>\n",
       "      <td>...</td>\n",
       "      <td>...</td>\n",
       "      <td>...</td>\n",
       "      <td>...</td>\n",
       "    </tr>\n",
       "    <tr>\n",
       "      <th>7608</th>\n",
       "      <td>10869</td>\n",
       "      <td>NaN</td>\n",
       "      <td>NaN</td>\n",
       "      <td>Two giant cranes holding a bridge collapse int...</td>\n",
       "      <td>1</td>\n",
       "    </tr>\n",
       "    <tr>\n",
       "      <th>7609</th>\n",
       "      <td>10870</td>\n",
       "      <td>NaN</td>\n",
       "      <td>NaN</td>\n",
       "      <td>@aria_ahrary @TheTawniest The out of control w...</td>\n",
       "      <td>1</td>\n",
       "    </tr>\n",
       "    <tr>\n",
       "      <th>7610</th>\n",
       "      <td>10871</td>\n",
       "      <td>NaN</td>\n",
       "      <td>NaN</td>\n",
       "      <td>M1.94 [01:04 UTC]?5km S of Volcano Hawaii. htt...</td>\n",
       "      <td>1</td>\n",
       "    </tr>\n",
       "    <tr>\n",
       "      <th>7611</th>\n",
       "      <td>10872</td>\n",
       "      <td>NaN</td>\n",
       "      <td>NaN</td>\n",
       "      <td>Police investigating after an e-bike collided ...</td>\n",
       "      <td>1</td>\n",
       "    </tr>\n",
       "    <tr>\n",
       "      <th>7612</th>\n",
       "      <td>10873</td>\n",
       "      <td>NaN</td>\n",
       "      <td>NaN</td>\n",
       "      <td>The Latest: More Homes Razed by Northern Calif...</td>\n",
       "      <td>1</td>\n",
       "    </tr>\n",
       "  </tbody>\n",
       "</table>\n",
       "<p>7613 rows × 5 columns</p>\n",
       "</div>"
      ],
      "text/plain": [
       "         id keyword location  \\\n",
       "0         1     NaN      NaN   \n",
       "1         4     NaN      NaN   \n",
       "2         5     NaN      NaN   \n",
       "3         6     NaN      NaN   \n",
       "4         7     NaN      NaN   \n",
       "...     ...     ...      ...   \n",
       "7608  10869     NaN      NaN   \n",
       "7609  10870     NaN      NaN   \n",
       "7610  10871     NaN      NaN   \n",
       "7611  10872     NaN      NaN   \n",
       "7612  10873     NaN      NaN   \n",
       "\n",
       "                                                   text  target  \n",
       "0     Our Deeds are the Reason of this #earthquake M...       1  \n",
       "1                Forest fire near La Ronge Sask. Canada       1  \n",
       "2     All residents asked to 'shelter in place' are ...       1  \n",
       "3     13,000 people receive #wildfires evacuation or...       1  \n",
       "4     Just got sent this photo from Ruby #Alaska as ...       1  \n",
       "...                                                 ...     ...  \n",
       "7608  Two giant cranes holding a bridge collapse int...       1  \n",
       "7609  @aria_ahrary @TheTawniest The out of control w...       1  \n",
       "7610  M1.94 [01:04 UTC]?5km S of Volcano Hawaii. htt...       1  \n",
       "7611  Police investigating after an e-bike collided ...       1  \n",
       "7612  The Latest: More Homes Razed by Northern Calif...       1  \n",
       "\n",
       "[7613 rows x 5 columns]"
      ]
     },
     "execution_count": 100,
     "metadata": {},
     "output_type": "execute_result"
    }
   ],
   "source": [
    "df_train"
   ]
  },
  {
   "cell_type": "code",
   "execution_count": 101,
   "id": "5d0805f1",
   "metadata": {},
   "outputs": [
    {
     "name": "stdout",
     "output_type": "stream",
     "text": [
      "<class 'pandas.core.frame.DataFrame'>\n",
      "RangeIndex: 7613 entries, 0 to 7612\n",
      "Data columns (total 5 columns):\n",
      " #   Column    Non-Null Count  Dtype \n",
      "---  ------    --------------  ----- \n",
      " 0   id        7613 non-null   int64 \n",
      " 1   keyword   7552 non-null   object\n",
      " 2   location  5080 non-null   object\n",
      " 3   text      7613 non-null   object\n",
      " 4   target    7613 non-null   int64 \n",
      "dtypes: int64(2), object(3)\n",
      "memory usage: 297.5+ KB\n"
     ]
    }
   ],
   "source": [
    "df_train.info()"
   ]
  },
  {
   "cell_type": "code",
   "execution_count": 102,
   "id": "57ae2320",
   "metadata": {},
   "outputs": [
    {
     "data": {
      "text/plain": [
       "id             0\n",
       "keyword       61\n",
       "location    2533\n",
       "text           0\n",
       "target         0\n",
       "dtype: int64"
      ]
     },
     "execution_count": 102,
     "metadata": {},
     "output_type": "execute_result"
    }
   ],
   "source": [
    "df_train.isnull().sum()"
   ]
  },
  {
   "cell_type": "code",
   "execution_count": 103,
   "id": "495b3a78",
   "metadata": {},
   "outputs": [
    {
     "data": {
      "text/plain": [
       "['keyword', 'location']"
      ]
     },
     "execution_count": 103,
     "metadata": {},
     "output_type": "execute_result"
    }
   ],
   "source": [
    "features_with_nan=[features for features in df_train.columns if df_train[features].isnull().sum()>0]\n",
    "features_with_nan"
   ]
  },
  {
   "cell_type": "code",
   "execution_count": 104,
   "id": "664c2b68",
   "metadata": {},
   "outputs": [
    {
     "name": "stdout",
     "output_type": "stream",
     "text": [
      "keyword 0.8013 % missing value\n",
      "location 33.272 % missing value\n"
     ]
    }
   ],
   "source": [
    "for feature in features_with_nan:\n",
    "    print(feature,np.round(df_train[feature].isnull().mean()*100,4),\"% missing value\")"
   ]
  },
  {
   "cell_type": "markdown",
   "id": "f1533941",
   "metadata": {},
   "source": [
    "## should we consider dropping location feature? normally machine learning project drop the column if it has more than 25 % null value"
   ]
  },
  {
   "cell_type": "code",
   "execution_count": 105,
   "id": "0ba8ed5c",
   "metadata": {},
   "outputs": [],
   "source": [
    "def drop_missing(df):\n",
    "    i=0\n",
    "    for col in df:\n",
    "        if (df[col].isnull().sum()/7613) >0.3:\n",
    "            df.drop(col,axis=1,inplace=True)\n",
    "            print('Column',col,'is dropped')\n",
    "            i+=1\n",
    "    if i == 0:\n",
    "        print('No Column Dropped')"
   ]
  },
  {
   "cell_type": "markdown",
   "id": "12ee4f8d",
   "metadata": {},
   "source": [
    "#### Check for duplicated value"
   ]
  },
  {
   "cell_type": "code",
   "execution_count": 106,
   "id": "b7e08efa",
   "metadata": {},
   "outputs": [
    {
     "data": {
      "text/plain": [
       "0"
      ]
     },
     "execution_count": 106,
     "metadata": {},
     "output_type": "execute_result"
    }
   ],
   "source": [
    "df_train.duplicated().sum()"
   ]
  },
  {
   "cell_type": "markdown",
   "id": "617009ea",
   "metadata": {},
   "source": [
    "## Target Analysis"
   ]
  },
  {
   "cell_type": "code",
   "execution_count": 107,
   "id": "7f356736",
   "metadata": {},
   "outputs": [
    {
     "data": {
      "image/png": "[encoded data removed]",
      "text/plain": [
       "<Figure size 576x360 with 1 Axes>"
      ]
     },
     "metadata": {},
     "output_type": "display_data"
    }
   ],
   "source": [
    "sns.set(style=\"whitegrid\")\n",
    "plt.figure(figsize=(8,5))\n",
    "total = float(len(df_train))\n",
    "ax = sns.countplot(x=\"target\", data=df_train)\n",
    "plt.title('Data provided for each event', fontsize=20)\n",
    "for p in ax.patches:\n",
    "    percentage = '{:.1f}%'.format(100 * p.get_height()/total)\n",
    "    x = p.get_x() + p.get_width()\n",
    "    y = p.get_height()\n",
    "    ax.annotate(percentage, (x,y+30),ha='center')\n",
    "plt.show()"
   ]
  },
  {
   "cell_type": "code",
   "execution_count": 108,
   "id": "77641488",
   "metadata": {},
   "outputs": [],
   "source": [
    "#We might need a Target analysis per keyword?\n",
    "#change abbreviation to regular words? https://www.kaggle.com/code/rftexas/text-only-bert-keras?scriptVersionId=31186559"
   ]
  },
  {
   "cell_type": "markdown",
   "id": "4ea0196d",
   "metadata": {},
   "source": [
    "## Preprocessing"
   ]
  },
  {
   "cell_type": "markdown",
   "id": "2909cc94",
   "metadata": {},
   "source": [
    "### 1. Text Cleaning\n",
    "#### 1) convert to lowercase and remove stopwords\n",
    "\n"
   ]
  },
  {
   "cell_type": "code",
   "execution_count": 109,
   "id": "81a84dd7",
   "metadata": {},
   "outputs": [
    {
     "data": {
      "text/plain": [
       "0       Our Deeds are the Reason of this #earthquake M...\n",
       "1                  Forest fire near La Ronge Sask. Canada\n",
       "2       All residents asked to 'shelter in place' are ...\n",
       "3       13,000 people receive #wildfires evacuation or...\n",
       "4       Just got sent this photo from Ruby #Alaska as ...\n",
       "                              ...                        \n",
       "7608    Two giant cranes holding a bridge collapse int...\n",
       "7609    @aria_ahrary @TheTawniest The out of control w...\n",
       "7610    M1.94 [01:04 UTC]?5km S of Volcano Hawaii. htt...\n",
       "7611    Police investigating after an e-bike collided ...\n",
       "7612    The Latest: More Homes Razed by Northern Calif...\n",
       "Name: text, Length: 7613, dtype: object"
      ]
     },
     "execution_count": 109,
     "metadata": {},
     "output_type": "execute_result"
    }
   ],
   "source": [
    "text = df_train['text']\n",
    "text"
   ]
  },
  {
   "cell_type": "code",
   "execution_count": 110,
   "id": "8c4f941d",
   "metadata": {},
   "outputs": [],
   "source": [
    "def data_cleaning(text):\n",
    "    text = text.lower()\n",
    "    # Format regular expressions for data cleaning\n",
    "    text = re.sub(r'[_\"\\-;%()|+&=*%.,!?:#$@\\[\\]/]', ' ', text)\n",
    "    \n",
    "    # remove stopwords\n",
    "    text = text.split()\n",
    "    stop = set(stopwords.words(\"english\"))\n",
    "    text = [w for w in text if not w in stop]\n",
    "    text = \" \".join(text)\n",
    "\n",
    "\n",
    "    return text"
   ]
  },
  {
   "cell_type": "code",
   "execution_count": 111,
   "id": "1bacd771",
   "metadata": {},
   "outputs": [],
   "source": [
    "df_train['text'] = df_train['text'].apply(data_cleaning)"
   ]
  },
  {
   "cell_type": "code",
   "execution_count": 112,
   "id": "a9a96a46",
   "metadata": {},
   "outputs": [
    {
     "data": {
      "text/plain": [
       "0            deeds reason earthquake may allah forgive us\n",
       "1                   forest fire near la ronge sask canada\n",
       "2       residents asked 'shelter place' notified offic...\n",
       "3       13 000 people receive wildfires evacuation ord...\n",
       "4       got sent photo ruby alaska smoke wildfires pou...\n",
       "                              ...                        \n",
       "7608    two giant cranes holding bridge collapse nearb...\n",
       "7609    aria ahrary thetawniest control wild fires cal...\n",
       "7610    m1 94 01 04 utc 5km volcano hawaii http co zdt...\n",
       "7611    police investigating e bike collided car littl...\n",
       "7612    latest homes razed northern california wildfir...\n",
       "Name: text, Length: 7613, dtype: object"
      ]
     },
     "execution_count": 112,
     "metadata": {},
     "output_type": "execute_result"
    }
   ],
   "source": [
    "df_train['text']"
   ]
  },
  {
   "cell_type": "markdown",
   "id": "ce412175",
   "metadata": {},
   "source": [
    "### 2. Stemming "
   ]
  },
  {
   "cell_type": "code",
   "execution_count": 113,
   "id": "19446131",
   "metadata": {},
   "outputs": [],
   "source": [
    "def stem(word):  \n",
    "    regexp = r'^(.*?)(ing|ly|ed|ious|ies|ive|es|s|ment)?$'\n",
    "    word, suffix = re.findall(regexp, word)[0]\n",
    "    return word"
   ]
  },
  {
   "cell_type": "code",
   "execution_count": 114,
   "id": "38d4550a",
   "metadata": {},
   "outputs": [],
   "source": [
    "df_train['text'] = df_train['text'].apply(stem)"
   ]
  },
  {
   "cell_type": "code",
   "execution_count": 115,
   "id": "44da4b0d",
   "metadata": {},
   "outputs": [
    {
     "data": {
      "text/plain": [
       "0             deeds reason earthquake may allah forgive u\n",
       "1                   forest fire near la ronge sask canada\n",
       "2       residents asked 'shelter place' notified offic...\n",
       "3       13 000 people receive wildfires evacuation ord...\n",
       "4       got sent photo ruby alaska smoke wildfires pou...\n",
       "                              ...                        \n",
       "7608    two giant cranes holding bridge collapse nearb...\n",
       "7609    aria ahrary thetawniest control wild fires cal...\n",
       "7610    m1 94 01 04 utc 5km volcano hawaii http co zdt...\n",
       "7611    police investigating e bike collided car littl...\n",
       "7612    latest homes razed northern california wildfir...\n",
       "Name: text, Length: 7613, dtype: object"
      ]
     },
     "execution_count": 115,
     "metadata": {},
     "output_type": "execute_result"
    }
   ],
   "source": [
    "df_train['text'] "
   ]
  },
  {
   "cell_type": "code",
   "execution_count": null,
   "id": "599a4ca7",
   "metadata": {},
   "outputs": [],
   "source": []
  },
  {
   "cell_type": "markdown",
   "id": "71189eb7",
   "metadata": {},
   "source": [
    "### 3.Lemmatization"
   ]
  },
  {
   "cell_type": "code",
   "execution_count": null,
   "id": "06a298ae",
   "metadata": {},
   "outputs": [],
   "source": []
  },
  {
   "cell_type": "code",
   "execution_count": null,
   "id": "53eb0fa5",
   "metadata": {},
   "outputs": [],
   "source": []
  },
  {
   "cell_type": "markdown",
   "id": "020ed683",
   "metadata": {},
   "source": [
    "### 4. Tokenization "
   ]
  },
  {
   "cell_type": "code",
   "execution_count": 116,
   "id": "8c2b9395",
   "metadata": {},
   "outputs": [],
   "source": [
    "def text_tokenization(text):\n",
    "    lst_text = text.split()\n",
    "    \n",
    "    return lst_text"
   ]
  },
  {
   "cell_type": "code",
   "execution_count": 117,
   "id": "c48ae7bb",
   "metadata": {},
   "outputs": [],
   "source": [
    "df_train['text'] = df_train['text'].apply(text_tokenization)"
   ]
  },
  {
   "cell_type": "code",
   "execution_count": 118,
   "id": "b9082974",
   "metadata": {},
   "outputs": [
    {
     "data": {
      "text/plain": [
       "0       [deeds, reason, earthquake, may, allah, forgiv...\n",
       "1           [forest, fire, near, la, ronge, sask, canada]\n",
       "2       [residents, asked, 'shelter, place', notified,...\n",
       "3       [13, 000, people, receive, wildfires, evacuati...\n",
       "4       [got, sent, photo, ruby, alaska, smoke, wildfi...\n",
       "                              ...                        \n",
       "7608    [two, giant, cranes, holding, bridge, collapse...\n",
       "7609    [aria, ahrary, thetawniest, control, wild, fir...\n",
       "7610    [m1, 94, 01, 04, utc, 5km, volcano, hawaii, ht...\n",
       "7611    [police, investigating, e, bike, collided, car...\n",
       "7612    [latest, homes, razed, northern, california, w...\n",
       "Name: text, Length: 7613, dtype: object"
      ]
     },
     "execution_count": 118,
     "metadata": {},
     "output_type": "execute_result"
    }
   ],
   "source": [
    "df_train['text'] "
   ]
  },
  {
   "cell_type": "code",
   "execution_count": null,
   "id": "efc71f98",
   "metadata": {},
   "outputs": [],
   "source": []
  },
  {
   "cell_type": "markdown",
   "id": "ca96b43e",
   "metadata": {},
   "source": [
    " ### 5. Sentence Segmentation"
   ]
  },
  {
   "cell_type": "code",
   "execution_count": null,
   "id": "9fe15121",
   "metadata": {},
   "outputs": [],
   "source": []
  },
  {
   "cell_type": "markdown",
   "id": "1ed10fc9",
   "metadata": {},
   "source": [
    "### Apply all of things that we did on test dataset as well"
   ]
  },
  {
   "cell_type": "code",
   "execution_count": 119,
   "id": "f1197242",
   "metadata": {},
   "outputs": [],
   "source": [
    "df_test['text'] = df_test['text'].apply(data_cleaning)\n",
    "df_test['text'] = df_test['text'].apply(stem)\n",
    "#df_test['text'] = df_test['text'].apply(text_tokenization)"
   ]
  },
  {
   "cell_type": "code",
   "execution_count": null,
   "id": "34b4e475",
   "metadata": {},
   "outputs": [],
   "source": []
  },
  {
   "cell_type": "markdown",
   "id": "36ba94ee",
   "metadata": {},
   "source": [
    "## TF-IDF Vectorization"
   ]
  },
  {
   "cell_type": "code",
   "execution_count": 120,
   "id": "d379af13",
   "metadata": {},
   "outputs": [
    {
     "name": "stdout",
     "output_type": "stream",
     "text": [
      "(7613, 22671)\n"
     ]
    }
   ],
   "source": [
    "from sklearn.feature_extraction.text import TfidfVectorizer\n",
    "\n",
    "tfidf = TfidfVectorizer(tokenizer=lambda x: x,\n",
    "                        preprocessor=lambda x: x)\n",
    "train_data_features = tfidf.fit_transform(df_train['text'])\n",
    "\n",
    "print(train_data_features.shape)"
   ]
  },
  {
   "cell_type": "markdown",
   "id": "61b2aee5",
   "metadata": {},
   "source": [
    "## Random Forest & Logistic Modelling "
   ]
  },
  {
   "cell_type": "code",
   "execution_count": 121,
   "id": "3cdda491",
   "metadata": {},
   "outputs": [],
   "source": [
    "# We split train dataset\n",
    "y_train = df_train['target']\n",
    "\n",
    "from sklearn.model_selection import train_test_split\n",
    "X_train, X_test, y_train, y_test = train_test_split(train_data_features, y_train, test_size=0.2, random_state=42)"
   ]
  },
  {
   "cell_type": "code",
   "execution_count": 122,
   "id": "3d5b283a",
   "metadata": {},
   "outputs": [
    {
     "name": "stdout",
     "output_type": "stream",
     "text": [
      "0.7741300065659882\n"
     ]
    }
   ],
   "source": [
    "from sklearn.ensemble import RandomForestClassifier\n",
    "# Initialize Random Forest classifier\n",
    "forest = RandomForestClassifier(random_state=42)\n",
    "# Train model\n",
    "forest = forest.fit(X_train, y_train)\n",
    "#score\n",
    "print(forest.score(X_test, y_test))"
   ]
  },
  {
   "cell_type": "markdown",
   "id": "a67c42c2",
   "metadata": {},
   "source": [
    "#### little Hyperparameter tuning"
   ]
  },
  {
   "cell_type": "code",
   "execution_count": 55,
   "id": "d0405655",
   "metadata": {},
   "outputs": [
    {
     "name": "stderr",
     "output_type": "stream",
     "text": [
      "C:\\Users\\hlee0\\anaconda3\\lib\\site-packages\\sklearn\\model_selection\\_search.py:292: UserWarning: The total space of parameters 27 is smaller than n_iter=100. Running 27 iterations. For exhaustive searches, use GridSearchCV.\n",
      "  warnings.warn(\n"
     ]
    },
    {
     "name": "stdout",
     "output_type": "stream",
     "text": [
      "Best Score: 0.7888341543513957\n",
      "Best Parameter {'n_estimators': 500, 'min_samples_split': 2, 'min_samples_leaf': 2}\n"
     ]
    }
   ],
   "source": [
    "#Do not run this code it will take 40 mins\n",
    "\n",
    "from sklearn.model_selection import RandomizedSearchCV\n",
    "from scipy.stats import uniform, truncnorm, randint\n",
    "\n",
    "model_params = {\n",
    "    'n_estimators': [130,230,500],\n",
    "    'min_samples_split': [2,5,10],\n",
    "    'min_samples_leaf': [1, 2, 4],\n",
    "}\n",
    "\n",
    "forest = RandomForestClassifier()\n",
    "rs = RandomizedSearchCV(forest, model_params, n_iter=100, cv=5, random_state=42)\n",
    "# Train model\n",
    "rs.fit(X_train, y_train)\n",
    "#score\n",
    "print('Best Score:', rs.best_score_)\n",
    "print('Best Parameter', rs.best_params_)"
   ]
  },
  {
   "cell_type": "markdown",
   "id": "acc4ae35",
   "metadata": {},
   "source": [
    "### Logistic Regression"
   ]
  },
  {
   "cell_type": "code",
   "execution_count": 123,
   "id": "c7327be6",
   "metadata": {},
   "outputs": [
    {
     "name": "stdout",
     "output_type": "stream",
     "text": [
      "0.7892317793827971\n"
     ]
    }
   ],
   "source": [
    "from sklearn.linear_model import LogisticRegression\n",
    "\n",
    "# Initialize a logistic regression model \n",
    "logistic = LogisticRegression(random_state=42)\n",
    "# Train the model\n",
    "logistic = logistic.fit(X_train, y_train)\n",
    "# Print score of model(using test dataset)\n",
    "print(logistic.score(X_test, y_test))"
   ]
  },
  {
   "cell_type": "code",
   "execution_count": 127,
   "id": "632e53c9",
   "metadata": {},
   "outputs": [
    {
     "name": "stdout",
     "output_type": "stream",
     "text": [
      "Fitting 3 folds for each of 800 candidates, totalling 2400 fits\n"
     ]
    },
    {
     "name": "stderr",
     "output_type": "stream",
     "text": [
      "C:\\Users\\hlee0\\anaconda3\\lib\\site-packages\\sklearn\\model_selection\\_validation.py:372: FitFailedWarning: \n",
      "240 fits failed out of a total of 2400.\n",
      "The score on these train-test partitions for these parameters will be set to nan.\n",
      "If these failures are not expected, you can try to debug them by setting error_score='raise'.\n",
      "\n",
      "Below are more details about the failures:\n",
      "--------------------------------------------------------------------------------\n",
      "240 fits failed with the following error:\n",
      "Traceback (most recent call last):\n",
      "  File \"C:\\Users\\hlee0\\anaconda3\\lib\\site-packages\\sklearn\\model_selection\\_validation.py\", line 680, in _fit_and_score\n",
      "    estimator.fit(X_train, y_train, **fit_params)\n",
      "  File \"C:\\Users\\hlee0\\anaconda3\\lib\\site-packages\\sklearn\\linear_model\\_logistic.py\", line 1461, in fit\n",
      "    solver = _check_solver(self.solver, self.penalty, self.dual)\n",
      "  File \"C:\\Users\\hlee0\\anaconda3\\lib\\site-packages\\sklearn\\linear_model\\_logistic.py\", line 464, in _check_solver\n",
      "    raise ValueError(\"penalty='none' is not supported for the liblinear solver\")\n",
      "ValueError: penalty='none' is not supported for the liblinear solver\n",
      "\n",
      "  warnings.warn(some_fits_failed_message, FitFailedWarning)\n",
      "C:\\Users\\hlee0\\anaconda3\\lib\\site-packages\\sklearn\\model_selection\\_search.py:969: UserWarning: One or more of the test scores are non-finite: [0.56945813 0.56945813 0.56945813 0.56945813 0.56945813 0.77339901\n",
      " 0.77569787        nan 0.77898194 0.78128079 0.56945813 0.56945813\n",
      " 0.56945813 0.56945813 0.56945813 0.77339901 0.77569787        nan\n",
      " 0.77898194 0.77931034 0.56945813 0.56945813 0.56945813 0.56945813\n",
      " 0.56945813 0.77339901 0.77569787        nan 0.77898194 0.77865353\n",
      " 0.56945813 0.56945813 0.56945813 0.56945813 0.56945813 0.77339901\n",
      " 0.77569787        nan 0.77898194 0.77865353 0.56945813 0.56945813\n",
      " 0.56945813 0.56945813 0.56945813 0.77339901 0.77569787        nan\n",
      " 0.77898194 0.78128079 0.56945813 0.56945813 0.56945813 0.56945813\n",
      " 0.56945813 0.77339901 0.77569787        nan 0.77898194 0.77931034\n",
      " 0.56945813 0.56945813 0.56945813 0.56945813 0.56945813 0.77339901\n",
      " 0.77569787        nan 0.77898194 0.77865353 0.56945813 0.56945813\n",
      " 0.56945813 0.56945813 0.56945813 0.77339901 0.77569787        nan\n",
      " 0.77898194 0.77865353 0.56945813 0.56945813 0.56945813 0.56945813\n",
      " 0.56945813 0.77339901 0.77569787        nan 0.77898194 0.78128079\n",
      " 0.56945813 0.56945813 0.56945813 0.56945813 0.56945813 0.77339901\n",
      " 0.77569787        nan 0.77898194 0.77931034 0.56945813 0.56945813\n",
      " 0.56945813 0.56945813 0.56945813 0.77339901 0.77569787        nan\n",
      " 0.77898194 0.77865353 0.56945813 0.56945813 0.56945813 0.56945813\n",
      " 0.56945813 0.77339901 0.77569787        nan 0.77898194 0.77865353\n",
      " 0.56945813 0.56945813 0.56945813 0.56945813 0.56945813 0.77339901\n",
      " 0.77569787        nan 0.77898194 0.78128079 0.56945813 0.56945813\n",
      " 0.56945813 0.56945813 0.56945813 0.77339901 0.77569787        nan\n",
      " 0.77898194 0.77931034 0.56945813 0.56945813 0.56945813 0.56945813\n",
      " 0.56945813 0.77339901 0.77569787        nan 0.77898194 0.77865353\n",
      " 0.56945813 0.56945813 0.56945813 0.56945813 0.56945813 0.77339901\n",
      " 0.77569787        nan 0.77898194 0.77865353 0.56945813 0.56945813\n",
      " 0.56945813 0.56945813 0.56945813 0.77339901 0.77569787        nan\n",
      " 0.77898194 0.78128079 0.56945813 0.56945813 0.56945813 0.56945813\n",
      " 0.56945813 0.77339901 0.77569787        nan 0.77898194 0.77931034\n",
      " 0.56945813 0.56945813 0.56945813 0.56945813 0.56945813 0.77339901\n",
      " 0.77569787        nan 0.77898194 0.77865353 0.56945813 0.56945813\n",
      " 0.56945813 0.56945813 0.56945813 0.77339901 0.77569787        nan\n",
      " 0.77898194 0.77865353 0.56945813 0.56945813 0.56945813 0.56945813\n",
      " 0.56945813 0.77339901 0.77569787        nan 0.77898194 0.78128079\n",
      " 0.56945813 0.56945813 0.56945813 0.56945813 0.56945813 0.77339901\n",
      " 0.77569787        nan 0.77898194 0.77931034 0.56945813 0.56945813\n",
      " 0.56945813 0.56945813 0.56945813 0.77339901 0.77569787        nan\n",
      " 0.77898194 0.77865353 0.56945813 0.56945813 0.56945813 0.56945813\n",
      " 0.56945813 0.77339901 0.77569787        nan 0.77898194 0.77865353\n",
      " 0.57963875 0.57963875 0.5819376  0.57963875 0.58029557 0.77339901\n",
      " 0.77569787        nan 0.77898194 0.78128079 0.57963875 0.57963875\n",
      " 0.5819376  0.57963875 0.58029557 0.77339901 0.77569787        nan\n",
      " 0.77898194 0.77931034 0.57963875 0.57963875 0.5819376  0.57963875\n",
      " 0.58029557 0.77339901 0.77569787        nan 0.77898194 0.77865353\n",
      " 0.57963875 0.57963875 0.5819376  0.57963875 0.58029557 0.77339901\n",
      " 0.77569787        nan 0.77898194 0.77865353 0.66617406 0.66617406\n",
      " 0.66781609 0.66617406 0.66633826 0.77339901 0.77569787        nan\n",
      " 0.77898194 0.78128079 0.66617406 0.66617406 0.66781609 0.66617406\n",
      " 0.66633826 0.77339901 0.77569787        nan 0.77898194 0.77931034\n",
      " 0.66617406 0.66617406 0.66781609 0.66617406 0.66633826 0.77339901\n",
      " 0.77569787        nan 0.77898194 0.77865353 0.66617406 0.66617406\n",
      " 0.66781609 0.66617406 0.66633826 0.77339901 0.77569787        nan\n",
      " 0.77898194 0.77865353 0.73858785 0.73858785 0.73924466 0.73858785\n",
      " 0.73891626 0.77339901 0.77569787        nan 0.77898194 0.78128079\n",
      " 0.73858785 0.73858785 0.73924466 0.73858785 0.73891626 0.77339901\n",
      " 0.77569787        nan 0.77898194 0.77931034 0.73858785 0.73858785\n",
      " 0.73924466 0.73858785 0.73891626 0.77339901 0.77569787        nan\n",
      " 0.77898194 0.77865353 0.73858785 0.73858785 0.73924466 0.73858785\n",
      " 0.73891626 0.77339901 0.77569787        nan 0.77898194 0.77865353\n",
      " 0.77553366 0.77536946 0.77619048 0.77536946 0.77619048 0.77339901\n",
      " 0.77569787        nan 0.77898194 0.78128079 0.77553366 0.77536946\n",
      " 0.77619048 0.77536946 0.77619048 0.77339901 0.77569787        nan\n",
      " 0.77898194 0.77931034 0.77553366 0.77536946 0.77619048 0.77536946\n",
      " 0.77619048 0.77339901 0.77569787        nan 0.77898194 0.77865353\n",
      " 0.77553366 0.77536946 0.77619048 0.77536946 0.77619048 0.77339901\n",
      " 0.77569787        nan 0.77898194 0.77865353 0.79392447 0.79392447\n",
      " 0.79392447 0.79392447 0.79376026 0.77339901 0.77569787        nan\n",
      " 0.77898194 0.78128079 0.79392447 0.79392447 0.79392447 0.79392447\n",
      " 0.79376026 0.77339901 0.77569787        nan 0.77898194 0.77931034\n",
      " 0.79392447 0.79392447 0.79392447 0.79392447 0.79376026 0.77339901\n",
      " 0.77569787        nan 0.77898194 0.77865353 0.79392447 0.79392447\n",
      " 0.79392447 0.79392447 0.79376026 0.77339901 0.77569787        nan\n",
      " 0.77898194 0.77865353 0.79376026 0.79376026 0.79376026 0.79376026\n",
      " 0.79359606 0.77339901 0.77569787        nan 0.77898194 0.78128079\n",
      " 0.79376026 0.79376026 0.79376026 0.79376026 0.79359606 0.77339901\n",
      " 0.77569787        nan 0.77898194 0.77931034 0.79376026 0.79376026\n",
      " 0.79376026 0.79376026 0.79359606 0.77339901 0.77569787        nan\n",
      " 0.77898194 0.77865353 0.79376026 0.79376026 0.79376026 0.79376026\n",
      " 0.79359606 0.77339901 0.77569787        nan 0.77898194 0.77865353\n",
      " 0.7908046  0.7908046  0.7909688  0.7908046  0.79129721 0.77339901\n",
      " 0.77569787        nan 0.77898194 0.78128079 0.7908046  0.7908046\n",
      " 0.7909688  0.7908046  0.79129721 0.77339901 0.77569787        nan\n",
      " 0.77898194 0.77931034 0.7908046  0.7908046  0.7909688  0.7908046\n",
      " 0.79129721 0.77339901 0.77569787        nan 0.77898194 0.77865353\n",
      " 0.7908046  0.7908046  0.7909688  0.7908046  0.79129721 0.77339901\n",
      " 0.77569787        nan 0.77898194 0.77865353 0.78768473 0.78768473\n",
      " 0.78768473 0.78768473 0.78784893 0.77339901 0.77569787        nan\n",
      " 0.77898194 0.78128079 0.78768473 0.78768473 0.78768473 0.78768473\n",
      " 0.78752053 0.77339901 0.77569787        nan 0.77898194 0.77931034\n",
      " 0.78768473 0.78768473 0.78768473 0.78768473 0.78752053 0.77339901\n",
      " 0.77569787        nan 0.77898194 0.77865353 0.78768473 0.78768473\n",
      " 0.78768473 0.78768473 0.78752053 0.77339901 0.77569787        nan\n",
      " 0.77898194 0.77865353 0.78407225 0.78374384 0.78357964 0.78390805\n",
      " 0.78407225 0.77339901 0.77569787        nan 0.77898194 0.78128079\n",
      " 0.78374384 0.78374384 0.78357964 0.78374384 0.78374384 0.77339901\n",
      " 0.77569787        nan 0.77898194 0.77931034 0.78374384 0.78374384\n",
      " 0.78357964 0.78374384 0.78374384 0.77339901 0.77569787        nan\n",
      " 0.77898194 0.77865353 0.78374384 0.78374384 0.78357964 0.78374384\n",
      " 0.78374384 0.77339901 0.77569787        nan 0.77898194 0.77865353\n",
      " 0.78111658 0.78111658 0.78128079 0.78144499 0.78341544 0.77339901\n",
      " 0.77569787        nan 0.77898194 0.78128079 0.78128079 0.78111658\n",
      " 0.78128079 0.78144499 0.78095238 0.77339901 0.77569787        nan\n",
      " 0.77898194 0.77931034 0.78128079 0.78111658 0.78128079 0.78144499\n",
      " 0.78095238 0.77339901 0.77569787        nan 0.77898194 0.77865353\n",
      " 0.78128079 0.78111658 0.78128079 0.78144499 0.78095238 0.77339901\n",
      " 0.77569787        nan 0.77898194 0.77865353 0.78111658 0.78095238\n",
      " 0.78078818 0.78045977 0.7817734  0.77339901 0.77569787        nan\n",
      " 0.77898194 0.78128079 0.78095238 0.78095238 0.78078818 0.78111658\n",
      " 0.78062397 0.77339901 0.77569787        nan 0.77898194 0.77931034\n",
      " 0.78095238 0.78095238 0.78078818 0.78111658 0.78062397 0.77339901\n",
      " 0.77569787        nan 0.77898194 0.77865353 0.78095238 0.78095238\n",
      " 0.78078818 0.78111658 0.78062397 0.77339901 0.77569787        nan\n",
      " 0.77898194 0.77865353 0.78029557 0.77881773 0.77914614 0.78013136\n",
      " 0.78128079 0.77339901 0.77569787        nan 0.77898194 0.78128079\n",
      " 0.77881773 0.77881773 0.77914614 0.78029557 0.78062397 0.77339901\n",
      " 0.77569787        nan 0.77898194 0.77931034 0.77881773 0.77881773\n",
      " 0.77914614 0.78029557 0.78062397 0.77339901 0.77569787        nan\n",
      " 0.77898194 0.77865353 0.77881773 0.77881773 0.77914614 0.78029557\n",
      " 0.78062397 0.77339901 0.77569787        nan 0.77898194 0.77865353\n",
      " 0.78045977 0.77898194 0.77898194 0.77931034 0.78128079 0.77339901\n",
      " 0.77569787        nan 0.77898194 0.78128079 0.77898194 0.77898194\n",
      " 0.77898194 0.78013136 0.78013136 0.77339901 0.77569787        nan\n",
      " 0.77898194 0.77931034 0.77898194 0.77898194 0.77898194 0.78013136\n",
      " 0.78095238 0.77339901 0.77569787        nan 0.77898194 0.77865353\n",
      " 0.77898194 0.77898194 0.77898194 0.78013136 0.78095238 0.77339901\n",
      " 0.77569787        nan 0.77898194 0.77865353 0.77799672 0.77816092\n",
      " 0.77898194 0.77914614 0.78128079 0.77339901 0.77569787        nan\n",
      " 0.77898194 0.78128079 0.77816092 0.77816092 0.77898194 0.77881773\n",
      " 0.77963875 0.77339901 0.77569787        nan 0.77898194 0.77931034\n",
      " 0.77816092 0.77816092 0.77898194 0.77980296 0.77963875 0.77339901\n",
      " 0.77569787        nan 0.77898194 0.77865353 0.77816092 0.77816092\n",
      " 0.77898194 0.77980296 0.77963875 0.77339901 0.77569787        nan\n",
      " 0.77898194 0.77865353]\n",
      "  warnings.warn(\n"
     ]
    },
    {
     "data": {
      "text/plain": [
       "LogisticRegression(C=1.623776739188721, random_state=42)"
      ]
     },
     "execution_count": 127,
     "metadata": {},
     "output_type": "execute_result"
    }
   ],
   "source": [
    "from sklearn.model_selection import GridSearchCV\n",
    "\n",
    "logistic = LogisticRegression(random_state=42)\n",
    "\n",
    "parameters = [    \n",
    "    {'penalty' : ['l2','none'],\n",
    "    'C' : np.logspace(-4, 4, 20),\n",
    "    'solver' : ['lbfgs','newton-cg','liblinear','sag','saga'],\n",
    "    'max_iter' : [100, 1000,2500, 5000]\n",
    "    }\n",
    "]\n",
    "\n",
    "model = GridSearchCV(logistic, param_grid = parameters, cv = 3, verbose=True, n_jobs=-1)\n",
    "\n",
    "best_clf = model.fit(X_train, y_train)\n",
    "\n",
    "best_clf.best_estimator_"
   ]
  },
  {
   "cell_type": "code",
   "execution_count": 128,
   "id": "43d3e4d7",
   "metadata": {},
   "outputs": [
    {
     "name": "stdout",
     "output_type": "stream",
     "text": [
      "Best Score: 0.7939244663382595\n",
      "Best Parameter {'C': 1.623776739188721, 'max_iter': 100, 'penalty': 'l2', 'solver': 'lbfgs'}\n"
     ]
    }
   ],
   "source": [
    "print('Best Score:', best_clf.best_score_)\n",
    "print('Best Parameter', best_clf.best_params_)"
   ]
  },
  {
   "cell_type": "markdown",
   "id": "8373496a",
   "metadata": {},
   "source": [
    "### Result\n",
    "\n",
    "- TF-IDF\n",
    " - Random Forest\n",
    "    - Basic: 0.7741300065659882\n",
    "    - Tuning: 0.7888341543513957\n",
    " - Logistic Modelling\n",
    "    - Baisc: 0.7892317793827971\n",
    "    - Tuning: 0.7939244663382595"
   ]
  },
  {
   "cell_type": "markdown",
   "id": "7c7ce3ef",
   "metadata": {},
   "source": [
    "## Bag of Words"
   ]
  },
  {
   "cell_type": "code",
   "execution_count": 77,
   "id": "ea8c6ca2",
   "metadata": {},
   "outputs": [
    {
     "data": {
      "text/plain": [
       "0       1\n",
       "1       1\n",
       "2       1\n",
       "3       1\n",
       "4       1\n",
       "       ..\n",
       "7608    1\n",
       "7609    1\n",
       "7610    1\n",
       "7611    1\n",
       "7612    1\n",
       "Name: target, Length: 7613, dtype: int64"
      ]
     },
     "execution_count": 77,
     "metadata": {},
     "output_type": "execute_result"
    }
   ],
   "source": [
    "df_train['target']"
   ]
  },
  {
   "cell_type": "code",
   "execution_count": 129,
   "id": "72c5a529",
   "metadata": {},
   "outputs": [
    {
     "name": "stdout",
     "output_type": "stream",
     "text": [
      "(7613, 22671)\n"
     ]
    }
   ],
   "source": [
    "from sklearn.feature_extraction.text import CountVectorizer\n",
    " \n",
    "vectorizer = CountVectorizer(tokenizer=lambda x: x,\n",
    "                        preprocessor=lambda x: x)\n",
    "bag = vectorizer.fit_transform(df_train['text'])\n",
    "print(bag.shape)"
   ]
  },
  {
   "cell_type": "code",
   "execution_count": 130,
   "id": "2e99583b",
   "metadata": {},
   "outputs": [
    {
     "data": {
      "text/plain": [
       "6090"
      ]
     },
     "execution_count": 130,
     "metadata": {},
     "output_type": "execute_result"
    }
   ],
   "source": [
    "y_train.shape[0]"
   ]
  },
  {
   "cell_type": "code",
   "execution_count": 131,
   "id": "4bb26b8f",
   "metadata": {},
   "outputs": [
    {
     "data": {
      "text/plain": [
       "7613"
      ]
     },
     "execution_count": 131,
     "metadata": {},
     "output_type": "execute_result"
    }
   ],
   "source": [
    "bag.shape[0]"
   ]
  },
  {
   "cell_type": "code",
   "execution_count": 132,
   "id": "9117e7c9",
   "metadata": {},
   "outputs": [],
   "source": [
    "# We split train dataset\n",
    "y_train = df_train['target']\n",
    "\n",
    "\n",
    "X_train, X_test, y_train, y_test = train_test_split(bag, y_train, test_size=0.2, random_state=42)"
   ]
  },
  {
   "cell_type": "markdown",
   "id": "0dc21b5d",
   "metadata": {},
   "source": [
    "#### Random Forest"
   ]
  },
  {
   "cell_type": "code",
   "execution_count": 133,
   "id": "127d2af4",
   "metadata": {},
   "outputs": [
    {
     "name": "stdout",
     "output_type": "stream",
     "text": [
      "0.7800393959290873\n"
     ]
    }
   ],
   "source": [
    "from sklearn.ensemble import RandomForestClassifier\n",
    "# Initialize Random Forest classifier\n",
    "forest = RandomForestClassifier(random_state=42)\n",
    "# Train model\n",
    "forest = forest.fit(X_train, y_train)\n",
    "#score\n",
    "print(forest.score(X_test, y_test))"
   ]
  },
  {
   "cell_type": "code",
   "execution_count": 92,
   "id": "b7a2be4a",
   "metadata": {},
   "outputs": [
    {
     "name": "stderr",
     "output_type": "stream",
     "text": [
      "C:\\Users\\hlee0\\anaconda3\\lib\\site-packages\\sklearn\\model_selection\\_search.py:292: UserWarning: The total space of parameters 27 is smaller than n_iter=100. Running 27 iterations. For exhaustive searches, use GridSearchCV.\n",
      "  warnings.warn(\n"
     ]
    },
    {
     "name": "stdout",
     "output_type": "stream",
     "text": [
      "Best Score: 0.7947454844006568\n",
      "Best Parameter {'n_estimators': 130, 'min_samples_split': 5, 'min_samples_leaf': 2}\n"
     ]
    }
   ],
   "source": [
    "#Do not run this code it will take 40 mins\n",
    "\n",
    "from sklearn.model_selection import RandomizedSearchCV\n",
    "from scipy.stats import uniform, truncnorm, randint\n",
    "\n",
    "model_params = {\n",
    "    'n_estimators': [130,230,500],\n",
    "    'min_samples_split': [2,5,10],\n",
    "    'min_samples_leaf': [1, 2, 4],\n",
    "}\n",
    "\n",
    "forest = RandomForestClassifier()\n",
    "rs = RandomizedSearchCV(forest, model_params, n_iter=100, cv=5, random_state=42)\n",
    "# Train model\n",
    "rs.fit(X_train, y_train)\n",
    "#score\n",
    "print('Best Score:', rs.best_score_)\n",
    "print('Best Parameter', rs.best_params_)"
   ]
  },
  {
   "cell_type": "markdown",
   "id": "a25b9037",
   "metadata": {},
   "source": [
    "### Logistic Regression w bag of words"
   ]
  },
  {
   "cell_type": "code",
   "execution_count": 134,
   "id": "93bc5dcf",
   "metadata": {},
   "outputs": [
    {
     "name": "stdout",
     "output_type": "stream",
     "text": [
      "0.793827971109652\n"
     ]
    }
   ],
   "source": [
    "from sklearn.linear_model import LogisticRegression\n",
    "\n",
    "# Initialize a logistic regression model \n",
    "logistic = LogisticRegression(random_state=42)\n",
    "# Train the model\n",
    "logistic = logistic.fit(X_train, y_train)\n",
    "# Print score of model(using test dataset)\n",
    "print(logistic.score(X_test, y_test))"
   ]
  },
  {
   "cell_type": "code",
   "execution_count": 135,
   "id": "c46d28e0",
   "metadata": {},
   "outputs": [
    {
     "name": "stdout",
     "output_type": "stream",
     "text": [
      "Fitting 3 folds for each of 800 candidates, totalling 2400 fits\n"
     ]
    },
    {
     "name": "stderr",
     "output_type": "stream",
     "text": [
      "C:\\Users\\hlee0\\anaconda3\\lib\\site-packages\\sklearn\\model_selection\\_validation.py:372: FitFailedWarning: \n",
      "240 fits failed out of a total of 2400.\n",
      "The score on these train-test partitions for these parameters will be set to nan.\n",
      "If these failures are not expected, you can try to debug them by setting error_score='raise'.\n",
      "\n",
      "Below are more details about the failures:\n",
      "--------------------------------------------------------------------------------\n",
      "240 fits failed with the following error:\n",
      "Traceback (most recent call last):\n",
      "  File \"C:\\Users\\hlee0\\anaconda3\\lib\\site-packages\\sklearn\\model_selection\\_validation.py\", line 680, in _fit_and_score\n",
      "    estimator.fit(X_train, y_train, **fit_params)\n",
      "  File \"C:\\Users\\hlee0\\anaconda3\\lib\\site-packages\\sklearn\\linear_model\\_logistic.py\", line 1461, in fit\n",
      "    solver = _check_solver(self.solver, self.penalty, self.dual)\n",
      "  File \"C:\\Users\\hlee0\\anaconda3\\lib\\site-packages\\sklearn\\linear_model\\_logistic.py\", line 464, in _check_solver\n",
      "    raise ValueError(\"penalty='none' is not supported for the liblinear solver\")\n",
      "ValueError: penalty='none' is not supported for the liblinear solver\n",
      "\n",
      "  warnings.warn(some_fits_failed_message, FitFailedWarning)\n",
      "C:\\Users\\hlee0\\anaconda3\\lib\\site-packages\\sklearn\\model_selection\\_search.py:969: UserWarning: One or more of the test scores are non-finite: [0.56945813 0.56945813 0.61921182 0.56945813 0.56945813 0.77389163\n",
      " 0.77027915        nan 0.78456486 0.78883415 0.56945813 0.56945813\n",
      " 0.61921182 0.56945813 0.56945813 0.77389163 0.77027915        nan\n",
      " 0.77307061 0.77766831 0.56945813 0.56945813 0.61921182 0.56945813\n",
      " 0.56945813 0.77389163 0.77027915        nan 0.77241379 0.7729064\n",
      " 0.56945813 0.56945813 0.61921182 0.56945813 0.56945813 0.77389163\n",
      " 0.77027915        nan 0.77208539 0.772578   0.56945813 0.56945813\n",
      " 0.63661741 0.56945813 0.56945813 0.77389163 0.77027915        nan\n",
      " 0.78456486 0.78883415 0.56945813 0.56945813 0.63661741 0.56945813\n",
      " 0.56945813 0.77389163 0.77027915        nan 0.77307061 0.77766831\n",
      " 0.56945813 0.56945813 0.63661741 0.56945813 0.56945813 0.77389163\n",
      " 0.77027915        nan 0.77241379 0.7729064  0.56945813 0.56945813\n",
      " 0.63661741 0.56945813 0.56945813 0.77389163 0.77027915        nan\n",
      " 0.77208539 0.772578   0.56863711 0.56863711 0.6727422  0.56863711\n",
      " 0.56847291 0.77389163 0.77027915        nan 0.78456486 0.78883415\n",
      " 0.56863711 0.56863711 0.6727422  0.56863711 0.56863711 0.77389163\n",
      " 0.77027915        nan 0.77307061 0.77766831 0.56863711 0.56863711\n",
      " 0.6727422  0.56863711 0.56863711 0.77389163 0.77027915        nan\n",
      " 0.77241379 0.7729064  0.56863711 0.56863711 0.6727422  0.56863711\n",
      " 0.56863711 0.77389163 0.77027915        nan 0.77208539 0.772578\n",
      " 0.60246305 0.60246305 0.70279146 0.60246305 0.60968801 0.77389163\n",
      " 0.77027915        nan 0.78456486 0.78883415 0.60246305 0.60246305\n",
      " 0.70279146 0.60246305 0.60509031 0.77389163 0.77027915        nan\n",
      " 0.77307061 0.77766831 0.60246305 0.60246305 0.70279146 0.60246305\n",
      " 0.60509031 0.77389163 0.77027915        nan 0.77241379 0.7729064\n",
      " 0.60246305 0.60246305 0.70279146 0.60246305 0.60509031 0.77389163\n",
      " 0.77027915        nan 0.77208539 0.772578   0.68735632 0.68735632\n",
      " 0.71625616 0.68735632 0.69573071 0.77389163 0.77027915        nan\n",
      " 0.78456486 0.78883415 0.68735632 0.68735632 0.71625616 0.68735632\n",
      " 0.68899836 0.77389163 0.77027915        nan 0.77307061 0.77766831\n",
      " 0.68735632 0.68735632 0.71625616 0.68735632 0.68899836 0.77389163\n",
      " 0.77027915        nan 0.77241379 0.7729064  0.68735632 0.68735632\n",
      " 0.71625616 0.68735632 0.68899836 0.77389163 0.77027915        nan\n",
      " 0.77208539 0.772578   0.727422   0.727422   0.73497537 0.72758621\n",
      " 0.7320197  0.77389163 0.77027915        nan 0.78456486 0.78883415\n",
      " 0.727422   0.727422   0.73497537 0.72758621 0.727422   0.77389163\n",
      " 0.77027915        nan 0.77307061 0.77766831 0.727422   0.727422\n",
      " 0.73497537 0.72758621 0.727422   0.77389163 0.77027915        nan\n",
      " 0.77241379 0.7729064  0.727422   0.727422   0.73497537 0.72758621\n",
      " 0.727422   0.77389163 0.77027915        nan 0.77208539 0.772578\n",
      " 0.7592775  0.7592775  0.76059113 0.7592775  0.76190476 0.77389163\n",
      " 0.77027915        nan 0.78456486 0.78883415 0.7592775  0.7592775\n",
      " 0.76059113 0.7592775  0.76026273 0.77389163 0.77027915        nan\n",
      " 0.77307061 0.77766831 0.7592775  0.7592775  0.76059113 0.7592775\n",
      " 0.76026273 0.77389163 0.77027915        nan 0.77241379 0.7729064\n",
      " 0.7592775  0.7592775  0.76059113 0.7592775  0.76026273 0.77389163\n",
      " 0.77027915        nan 0.77208539 0.772578   0.78275862 0.78275862\n",
      " 0.78489327 0.78341544 0.79014778 0.77389163 0.77027915        nan\n",
      " 0.78456486 0.78883415 0.78275862 0.78275862 0.78489327 0.78341544\n",
      " 0.78423645 0.77389163 0.77027915        nan 0.77307061 0.77766831\n",
      " 0.78275862 0.78275862 0.78489327 0.78341544 0.78423645 0.77389163\n",
      " 0.77027915        nan 0.77241379 0.7729064  0.78275862 0.78275862\n",
      " 0.78489327 0.78341544 0.78423645 0.77389163 0.77027915        nan\n",
      " 0.77208539 0.772578   0.79458128 0.79458128 0.79490969 0.79441708\n",
      " 0.79885057 0.77389163 0.77027915        nan 0.78456486 0.78883415\n",
      " 0.79458128 0.79458128 0.79490969 0.79458128 0.79458128 0.77389163\n",
      " 0.77027915        nan 0.77307061 0.77766831 0.79458128 0.79458128\n",
      " 0.79490969 0.79458128 0.79458128 0.77389163 0.77027915        nan\n",
      " 0.77241379 0.7729064  0.79458128 0.79458128 0.79490969 0.79458128\n",
      " 0.79458128 0.77389163 0.77027915        nan 0.77208539 0.772578\n",
      " 0.79376026 0.79376026 0.79392447 0.79507389 0.79573071 0.77389163\n",
      " 0.77027915        nan 0.78456486 0.78883415 0.79376026 0.79376026\n",
      " 0.79392447 0.79408867 0.79441708 0.77389163 0.77027915        nan\n",
      " 0.77307061 0.77766831 0.79376026 0.79376026 0.79392447 0.79408867\n",
      " 0.79441708 0.77389163 0.77027915        nan 0.77241379 0.7729064\n",
      " 0.79376026 0.79376026 0.79392447 0.79408867 0.79441708 0.77389163\n",
      " 0.77027915        nan 0.77208539 0.772578   0.79211823 0.79211823\n",
      " 0.79195402 0.79425287 0.79490969 0.77389163 0.77027915        nan\n",
      " 0.78456486 0.78883415 0.79211823 0.79211823 0.79195402 0.79162562\n",
      " 0.79178982 0.77389163 0.77027915        nan 0.77307061 0.77766831\n",
      " 0.79211823 0.79211823 0.79195402 0.79162562 0.79178982 0.77389163\n",
      " 0.77027915        nan 0.77241379 0.7729064  0.79211823 0.79211823\n",
      " 0.79195402 0.79162562 0.79178982 0.77389163 0.77027915        nan\n",
      " 0.77208539 0.772578   0.78489327 0.78489327 0.78522167 0.78899836\n",
      " 0.79195402 0.77389163 0.77027915        nan 0.78456486 0.78883415\n",
      " 0.78489327 0.78489327 0.78522167 0.78587849 0.78522167 0.77389163\n",
      " 0.77027915        nan 0.77307061 0.77766831 0.78489327 0.78489327\n",
      " 0.78522167 0.78587849 0.78522167 0.77389163 0.77027915        nan\n",
      " 0.77241379 0.7729064  0.78489327 0.78489327 0.78522167 0.78587849\n",
      " 0.78522167 0.77389163 0.77027915        nan 0.77208539 0.772578\n",
      " 0.78029557 0.78029557 0.78029557 0.78669951 0.78998358 0.77389163\n",
      " 0.77027915        nan 0.78456486 0.78883415 0.78029557 0.78029557\n",
      " 0.78029557 0.78062397 0.78226601 0.77389163 0.77027915        nan\n",
      " 0.77307061 0.77766831 0.78029557 0.78029557 0.78029557 0.78062397\n",
      " 0.7817734  0.77389163 0.77027915        nan 0.77241379 0.7729064\n",
      " 0.78029557 0.78029557 0.78029557 0.78062397 0.7817734  0.77389163\n",
      " 0.77027915        nan 0.77208539 0.772578   0.77783251 0.77766831\n",
      " 0.77750411 0.78489327 0.78883415 0.77389163 0.77027915        nan\n",
      " 0.78456486 0.78883415 0.77766831 0.77766831 0.77750411 0.77931034\n",
      " 0.77996716 0.77389163 0.77027915        nan 0.77307061 0.77766831\n",
      " 0.77766831 0.77766831 0.77750411 0.77898194 0.77914614 0.77389163\n",
      " 0.77027915        nan 0.77241379 0.7729064  0.77766831 0.77766831\n",
      " 0.77750411 0.77898194 0.77914614 0.77389163 0.77027915        nan\n",
      " 0.77208539 0.772578   0.77536946 0.77635468 0.77651888 0.78472906\n",
      " 0.78899836 0.77389163 0.77027915        nan 0.78456486 0.78883415\n",
      " 0.77619048 0.77635468 0.77651888 0.7771757  0.77783251 0.77389163\n",
      " 0.77027915        nan 0.77307061 0.77766831 0.77619048 0.77635468\n",
      " 0.77651888 0.77750411 0.77602627 0.77389163 0.77027915        nan\n",
      " 0.77241379 0.7729064  0.77619048 0.77635468 0.77651888 0.77750411\n",
      " 0.77602627 0.77389163 0.77027915        nan 0.77208539 0.772578\n",
      " 0.77405583 0.77438424 0.77438424 0.78505747 0.78883415 0.77389163\n",
      " 0.77027915        nan 0.78456486 0.78883415 0.77438424 0.77438424\n",
      " 0.77438424 0.77454844 0.77750411 0.77389163 0.77027915        nan\n",
      " 0.77307061 0.77766831 0.77438424 0.77438424 0.77438424 0.77422003\n",
      " 0.77405583 0.77389163 0.77027915        nan 0.77241379 0.7729064\n",
      " 0.77438424 0.77438424 0.77438424 0.77422003 0.77438424 0.77389163\n",
      " 0.77027915        nan 0.77208539 0.772578   0.772578   0.7727422\n",
      " 0.7729064  0.78456486 0.78883415 0.77389163 0.77027915        nan\n",
      " 0.78456486 0.78883415 0.7727422  0.7727422  0.7729064  0.77356322\n",
      " 0.77750411 0.77389163 0.77027915        nan 0.77307061 0.77766831\n",
      " 0.7727422  0.7727422  0.7729064  0.77339901 0.77356322 0.77389163\n",
      " 0.77027915        nan 0.77241379 0.7729064  0.7727422  0.7727422\n",
      " 0.7729064  0.77339901 0.77339901 0.77389163 0.77027915        nan\n",
      " 0.77208539 0.772578   0.77438424 0.77224959 0.77159278 0.78456486\n",
      " 0.78883415 0.77389163 0.77027915        nan 0.78456486 0.78883415\n",
      " 0.77224959 0.77224959 0.77159278 0.77372742 0.77766831 0.77389163\n",
      " 0.77027915        nan 0.77307061 0.77766831 0.77224959 0.77224959\n",
      " 0.77159278 0.77241379 0.77307061 0.77389163 0.77027915        nan\n",
      " 0.77241379 0.7729064  0.77224959 0.77224959 0.77159278 0.77224959\n",
      " 0.77307061 0.77389163 0.77027915        nan 0.77208539 0.772578\n",
      " 0.77569787 0.77142857 0.77208539 0.78456486 0.78883415 0.77389163\n",
      " 0.77027915        nan 0.78456486 0.78883415 0.77142857 0.77142857\n",
      " 0.77208539 0.77307061 0.77750411 0.77389163 0.77027915        nan\n",
      " 0.77307061 0.77766831 0.77142857 0.77142857 0.77208539 0.772578\n",
      " 0.7729064  0.77389163 0.77027915        nan 0.77241379 0.7729064\n",
      " 0.77142857 0.77142857 0.77208539 0.77224959 0.772578   0.77389163\n",
      " 0.77027915        nan 0.77208539 0.772578   0.77816092 0.77142857\n",
      " 0.77208539 0.78456486 0.78883415 0.77389163 0.77027915        nan\n",
      " 0.78456486 0.78883415 0.77126437 0.77142857 0.77208539 0.77307061\n",
      " 0.77750411 0.77389163 0.77027915        nan 0.77307061 0.77766831\n",
      " 0.77126437 0.77142857 0.77208539 0.77241379 0.7729064  0.77389163\n",
      " 0.77027915        nan 0.77241379 0.7729064  0.77126437 0.77142857\n",
      " 0.77208539 0.77224959 0.772578   0.77389163 0.77027915        nan\n",
      " 0.77208539 0.772578  ]\n",
      "  warnings.warn(\n",
      "C:\\Users\\hlee0\\anaconda3\\lib\\site-packages\\sklearn\\linear_model\\_sag.py:352: ConvergenceWarning: The max_iter was reached which means the coef_ did not converge\n",
      "  warnings.warn(\n"
     ]
    },
    {
     "data": {
      "text/plain": [
       "LogisticRegression(C=0.23357214690901212, random_state=42, solver='saga')"
      ]
     },
     "execution_count": 135,
     "metadata": {},
     "output_type": "execute_result"
    }
   ],
   "source": [
    "from sklearn.model_selection import GridSearchCV\n",
    "\n",
    "logistic = LogisticRegression(random_state=42)\n",
    "\n",
    "parameters = [    \n",
    "    {'penalty' : ['l2','none'],\n",
    "    'C' : np.logspace(-4, 4, 20),\n",
    "    'solver' : ['lbfgs','newton-cg','liblinear','sag','saga'],\n",
    "    'max_iter' : [100, 1000,2500, 5000]\n",
    "    }\n",
    "]\n",
    "\n",
    "model = GridSearchCV(logistic, param_grid = parameters, cv = 3, verbose=True, n_jobs=-1)\n",
    "\n",
    "best_clf = model.fit(X_train, y_train)\n",
    "\n",
    "best_clf.best_estimator_"
   ]
  },
  {
   "cell_type": "code",
   "execution_count": 136,
   "id": "ab807bbf",
   "metadata": {},
   "outputs": [
    {
     "name": "stdout",
     "output_type": "stream",
     "text": [
      "Best Score: 0.7988505747126436\n",
      "Best Parameter {'C': 0.23357214690901212, 'max_iter': 100, 'penalty': 'l2', 'solver': 'saga'}\n"
     ]
    }
   ],
   "source": [
    "print('Best Score:', best_clf.best_score_)\n",
    "print('Best Parameter', best_clf.best_params_)"
   ]
  },
  {
   "cell_type": "markdown",
   "id": "36e799ba",
   "metadata": {},
   "source": [
    "### Result\n",
    "\n",
    "- TF-IDF\n",
    " - Random Forest\n",
    "    - Basic: 0.7741300065659882\n",
    "    - Tuning: 0.7888341543513957\n",
    " - Logistic Modelling\n",
    "    - Baisc: 0.7892317793827971\n",
    "    - Tuning: 0.7955665024630543\n",
    "- bag of words\n",
    " - Random Forest\n",
    "    - Basic: 0.7800393959290873\n",
    "    - Tuning: 0.7947454844006568\n",
    " - Logistic Modelling\n",
    "    - Baisc: 0.793827971109652\n",
    "    - Tuning: 0.7988505747126436"
   ]
  },
  {
   "cell_type": "code",
   "execution_count": null,
   "id": "a79a7883",
   "metadata": {},
   "outputs": [],
   "source": []
  },
  {
   "cell_type": "code",
   "execution_count": null,
   "id": "ea83b655",
   "metadata": {},
   "outputs": [],
   "source": []
  }
 ],
 "metadata": {
  "kernelspec": {
   "display_name": "Python 3 (ipykernel)",
   "language": "python",
   "name": "python3"
  },
  "language_info": {
   "codemirror_mode": {
    "name": "ipython",
    "version": 3
   },
   "file_extension": ".py",
   "mimetype": "text/x-python",
   "name": "python",
   "nbconvert_exporter": "python",
   "pygments_lexer": "ipython3",
   "version": "3.9.12"
  }
 },
 "nbformat": 4,
 "nbformat_minor": 5
}
